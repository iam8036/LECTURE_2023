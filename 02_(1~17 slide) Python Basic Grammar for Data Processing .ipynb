{
 "cells": [
  {
   "cell_type": "markdown",
   "metadata": {},
   "source": [
    "# 데이터 과학 : 실습 (1) "
   ]
  },
  {
   "cell_type": "markdown",
   "metadata": {},
   "source": [
    "변수이름은 반드시 영문자나 언더바( _ )로 시작해야 하고, 숫자나 특수문자로 시작하면 안됩니다.\n",
    "\n",
    "단, 숫자나 특수문자를 변수이름으로 사용하는 것은 가능해요.\n",
    "\n",
    "대문자와 소문자는 다른 글자로 생각합니다.\n",
    "\n",
    "파이썬에서 이미 사용되고 있는 단어들(reserved words, 예약어라고 합니다)은 변수 이름으로 사용할 수 없습니다.\n",
    " "
   ]
  },
  {
   "cell_type": "markdown",
   "metadata": {},
   "source": [
    "● 변수 사용법과 입출력 배우기\n",
    "\n",
    "1) var1 이름의 변수를 만들고 10의 값을 할당하기"
   ]
  },
  {
   "cell_type": "code",
   "execution_count": 1,
   "metadata": {},
   "outputs": [
    {
     "name": "stdout",
     "output_type": "stream",
     "text": [
      "10\n"
     ]
    }
   ],
   "source": [
    "var1 = 10\n",
    "print(var1)"
   ]
  },
  {
   "cell_type": "markdown",
   "metadata": {},
   "source": [
    "2)  var2 이름의 변수를 만들고 20의 값을 할당하기"
   ]
  },
  {
   "cell_type": "code",
   "execution_count": 4,
   "metadata": {},
   "outputs": [
    {
     "name": "stdout",
     "output_type": "stream",
     "text": [
      "25\n"
     ]
    }
   ],
   "source": [
    "# 변수 이해하기 \n",
    "\n",
    "var2 = 25\n",
    "print(var2)"
   ]
  },
  {
   "cell_type": "markdown",
   "metadata": {},
   "source": [
    "3) 다양한 연산자 사용하기"
   ]
  },
  {
   "cell_type": "code",
   "execution_count": 3,
   "metadata": {},
   "outputs": [
    {
     "name": "stdout",
     "output_type": "stream",
     "text": [
      "35\n",
      "250\n",
      "2.5\n",
      "2\n",
      "5\n"
     ]
    }
   ],
   "source": [
    "print(var1 + var2)\n",
    "print(var1 * var2)\n",
    "print(var2 / var1)\n",
    "print(var2 // var1)\n",
    "print(var2 % var1)"
   ]
  },
  {
   "cell_type": "markdown",
   "metadata": {},
   "source": [
    "4)  % 연산자 활용하기"
   ]
  },
  {
   "cell_type": "code",
   "execution_count": 4,
   "metadata": {},
   "outputs": [
    {
     "name": "stdout",
     "output_type": "stream",
     "text": [
      "2\n"
     ]
    }
   ],
   "source": [
    "var5 = 3\n",
    "var6 = 14\n",
    "print(var6 % var5)"
   ]
  },
  {
   "cell_type": "markdown",
   "metadata": {},
   "source": [
    "5) print( ) 함수 사용하기"
   ]
  },
  {
   "cell_type": "code",
   "execution_count": 5,
   "metadata": {},
   "outputs": [
    {
     "name": "stdout",
     "output_type": "stream",
     "text": [
      "오늘도 굿모닝이지 말입니다!\n",
      "내일도 굿모닝이지 말입니다!\n"
     ]
    }
   ],
   "source": [
    "# 출력할 문장을 직접 쓰기\n",
    "print('오늘도 굿모닝이지 말입니다!')\n",
    "\n",
    "# 출력할 문장을 변수에 넣고 변수값 출력하기\n",
    "str = \"내일도 굿모닝이지 말입니다!\"\n",
    "print(str)"
   ]
  },
  {
   "cell_type": "markdown",
   "metadata": {},
   "source": [
    "6) 리터럴 문자와 함께 사용하기"
   ]
  },
  {
   "cell_type": "code",
   "execution_count": 6,
   "metadata": {},
   "outputs": [
    {
     "name": "stdout",
     "output_type": "stream",
     "text": [
      " 배가 무지 고파서 밥을 5 그릇도 먹겠네!\n"
     ]
    }
   ],
   "source": [
    "hungry = 5\n",
    "print(' 배가 무지 고파서 밥을 %s 그릇도 먹겠네!' %hungry)"
   ]
  },
  {
   "cell_type": "markdown",
   "metadata": {},
   "source": [
    "7) 특수문자와 함께 사용해야 할 경우"
   ]
  },
  {
   "cell_type": "code",
   "execution_count": 7,
   "metadata": {},
   "outputs": [
    {
     "ename": "TypeError",
     "evalue": "not enough arguments for format string",
     "output_type": "error",
     "traceback": [
      "\u001b[1;31m---------------------------------------------------------------------------\u001b[0m",
      "\u001b[1;31mTypeError\u001b[0m                                 Traceback (most recent call last)",
      "\u001b[1;32m<ipython-input-7-b4746ac92cd6>\u001b[0m in \u001b[0;36m<module>\u001b[1;34m\u001b[0m\n\u001b[0;32m      1\u001b[0m \u001b[0mup\u001b[0m \u001b[1;33m=\u001b[0m \u001b[1;36m20\u001b[0m\u001b[1;33m\u001b[0m\u001b[1;33m\u001b[0m\u001b[0m\n\u001b[1;32m----> 2\u001b[1;33m \u001b[0mprint\u001b[0m\u001b[1;33m(\u001b[0m\u001b[1;34m' 뉴스에서 물가가 %s% 까지 오른다는데....'\u001b[0m  \u001b[1;33m%\u001b[0m\u001b[0mup\u001b[0m\u001b[1;33m)\u001b[0m\u001b[1;33m\u001b[0m\u001b[1;33m\u001b[0m\u001b[0m\n\u001b[0m",
      "\u001b[1;31mTypeError\u001b[0m: not enough arguments for format string"
     ]
    }
   ],
   "source": [
    "up = 20\n",
    "print(' 뉴스에서 물가가 %s% 까지 오른다는데....'  %up)"
   ]
  },
  {
   "cell_type": "code",
   "execution_count": 8,
   "metadata": {},
   "outputs": [
    {
     "name": "stdout",
     "output_type": "stream",
     "text": [
      " 뉴스에서 물가가 20% 까지 오른다는데....\n"
     ]
    }
   ],
   "source": [
    "up = 20\n",
    "print(' 뉴스에서 물가가 %s%% 까지 오른다는데....'  %up)"
   ]
  },
  {
   "cell_type": "markdown",
   "metadata": {},
   "source": [
    "8) 여러개의 변수를 한꺼번에 사용할 경우"
   ]
  },
  {
   "cell_type": "code",
   "execution_count": 9,
   "metadata": {},
   "outputs": [
    {
     "name": "stdout",
     "output_type": "stream",
     "text": [
      "뉴스에서 물가는 20% 오른다는데 내 월급도 10%라도..\n"
     ]
    }
   ],
   "source": [
    "up = 20\n",
    "sal = 10\n",
    "\n",
    "print('뉴스에서 물가는 %s%% 오른다는데 내 월급도 %s%%라도..'  %(up , sal))"
   ]
  },
  {
   "cell_type": "markdown",
   "metadata": {},
   "source": [
    "9) input( ) 함수로 정보 입력받기"
   ]
  },
  {
   "cell_type": "code",
   "execution_count": 10,
   "metadata": {},
   "outputs": [
    {
     "name": "stdout",
     "output_type": "stream",
     "text": [
      "짬뽕\n",
      "txt1 값을 출력하면 :  짬뽕\n"
     ]
    }
   ],
   "source": [
    "txt1 = input()\n",
    "\n",
    "print(\"txt1 값을 출력하면 : \", txt1)"
   ]
  },
  {
   "cell_type": "code",
   "execution_count": 11,
   "metadata": {},
   "outputs": [
    {
     "data": {
      "text/plain": [
       "'짬뽕'"
      ]
     },
     "execution_count": 11,
     "metadata": {},
     "output_type": "execute_result"
    }
   ],
   "source": [
    "txt1"
   ]
  },
  {
   "cell_type": "markdown",
   "metadata": {},
   "source": [
    "10) input() 함수에서 안내 멘트 보이기"
   ]
  },
  {
   "cell_type": "code",
   "execution_count": 12,
   "metadata": {},
   "outputs": [
    {
     "name": "stdout",
     "output_type": "stream",
     "text": [
      "점심 뭐 드셨어용? 짜장면\n"
     ]
    }
   ],
   "source": [
    "txt2 = input('점심 뭐 드셨어용? ')"
   ]
  },
  {
   "cell_type": "code",
   "execution_count": 13,
   "metadata": {},
   "outputs": [
    {
     "data": {
      "text/plain": [
       "'짜장면'"
      ]
     },
     "execution_count": 13,
     "metadata": {},
     "output_type": "execute_result"
    }
   ],
   "source": [
    "txt2"
   ]
  },
  {
   "cell_type": "markdown",
   "metadata": {},
   "source": [
    "11) 입력 데이터 형식 변환하기 "
   ]
  },
  {
   "cell_type": "code",
   "execution_count": 14,
   "metadata": {},
   "outputs": [
    {
     "name": "stdout",
     "output_type": "stream",
     "text": [
      "\n",
      "1. 서울         2.대전           3.광주           4.부산\n",
      "5. 경남         6.경북           7.충청           8.제주\n",
      "\n",
      "위 지역중 정보를 조회할 지역의 번호를 입력하세요: 3\n"
     ]
    }
   ],
   "source": [
    "area_no = input('''\n",
    "1. 서울         2.대전           3.광주           4.부산\n",
    "5. 경남         6.경북           7.충청           8.제주\n",
    "\n",
    "위 지역중 정보를 조회할 지역의 번호를 입력하세요: ''')"
   ]
  },
  {
   "cell_type": "code",
   "execution_count": 15,
   "metadata": {},
   "outputs": [
    {
     "data": {
      "text/plain": [
       "'3'"
      ]
     },
     "execution_count": 15,
     "metadata": {},
     "output_type": "execute_result"
    }
   ],
   "source": [
    "area_no"
   ]
  },
  {
   "cell_type": "code",
   "execution_count": 16,
   "metadata": {},
   "outputs": [
    {
     "data": {
      "text/plain": [
       "str"
      ]
     },
     "execution_count": 16,
     "metadata": {},
     "output_type": "execute_result"
    }
   ],
   "source": [
    "type(area_no)"
   ]
  },
  {
   "cell_type": "code",
   "execution_count": 17,
   "metadata": {},
   "outputs": [
    {
     "name": "stdout",
     "output_type": "stream",
     "text": [
      "\n",
      "1. 서울         2.대전           3.광주           4.부산\n",
      "5. 경남         6.경북           7.충청           8.제주\n",
      "\n",
      "위 지역중 정보를 조회할 지역의 번호를 입력하세요: 3\n",
      "3\n",
      "<class 'str'>\n"
     ]
    }
   ],
   "source": [
    "area_no = input('''\n",
    "1. 서울         2.대전           3.광주           4.부산\n",
    "5. 경남         6.경북           7.충청           8.제주\n",
    "\n",
    "위 지역중 정보를 조회할 지역의 번호를 입력하세요: ''')\n",
    "print(area_no)\n",
    "print(type(area_no))"
   ]
  },
  {
   "cell_type": "code",
   "execution_count": 18,
   "metadata": {},
   "outputs": [
    {
     "name": "stdout",
     "output_type": "stream",
     "text": [
      "<class 'str'>\n",
      "<class 'int'>\n"
     ]
    }
   ],
   "source": [
    " \n",
    "# input으로 입력한 값은 str 형의 데이터     \n",
    "print(type(area_no))\n",
    "\n",
    "# input으로 입력한 값을 숫자형으로 사용하려면 형식을 변환 해야함\n",
    "\n",
    "print(type(int(area_no)))"
   ]
  },
  {
   "cell_type": "markdown",
   "metadata": {},
   "source": [
    "Quiz 1"
   ]
  },
  {
   "cell_type": "code",
   "execution_count": 19,
   "metadata": {},
   "outputs": [
    {
     "name": "stdout",
     "output_type": "stream",
     "text": [
      "첫번째 주문하실 음식은 무엇인가요?: 짜장면\n",
      "두번째 주문하실 음식은 무엇인가요?: 짬뽕\n",
      "첫번째 주문하신 음식은 짜장면이고 두번째 주문하신 음식은 짬뽕입니다\n"
     ]
    }
   ],
   "source": [
    "menu_1 = input('첫번째 주문하실 음식은 무엇인가요?: ')\n",
    "menu_2= input('두번째 주문하실 음식은 무엇인가요?: ')\n",
    "\n",
    "print('첫번째 주문하신 음식은 %s이고 두번째 주문하신 음식은 %s입니다' %(menu_1,menu_2))"
   ]
  },
  {
   "cell_type": "code",
   "execution_count": null,
   "metadata": {},
   "outputs": [],
   "source": []
  }
 ],
 "metadata": {
  "kernelspec": {
   "display_name": "Python 3",
   "language": "python",
   "name": "python3"
  },
  "language_info": {
   "codemirror_mode": {
    "name": "ipython",
    "version": 3
   },
   "file_extension": ".py",
   "mimetype": "text/x-python",
   "name": "python",
   "nbconvert_exporter": "python",
   "pygments_lexer": "ipython3",
   "version": "3.8.8"
  }
 },
 "nbformat": 4,
 "nbformat_minor": 2
}
