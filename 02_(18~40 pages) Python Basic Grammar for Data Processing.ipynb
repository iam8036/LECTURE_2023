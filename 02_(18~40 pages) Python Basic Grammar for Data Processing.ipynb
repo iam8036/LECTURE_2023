{
 "cells": [
  {
   "cell_type": "markdown",
   "metadata": {},
   "source": [
    "# 데이터 과학 : 실습 (2) "
   ]
  },
  {
   "cell_type": "markdown",
   "metadata": {},
   "source": [
    "● 파이썬에서 산술 연산자를 사용\n",
    "\n",
    "1) 사칙 연산자과 나머지 연산자를 이용한 연산"
   ]
  },
  {
   "cell_type": "code",
   "execution_count": 1,
   "metadata": {},
   "outputs": [
    {
     "name": "stdout",
     "output_type": "stream",
     "text": [
      "1.더하기 예 : 2 + 4 =  6\n",
      "2.빼기 예 : 4 - 2 =  2\n",
      "3.곱하기 예 : 4 X 2 =  8\n",
      "4.나누기 예 : 5 / 2 =  2.5\n",
      "5.나누기에서 몫만 출력하기 예 : 5 // 2 =  2\n",
      "6.나누기에서 나머지값만 출력하기 예 : 5 % 2 =  1\n",
      "7.주어진 숫자의 승수값 출력하기 예 : 5 ** 2 =  25\n"
     ]
    }
   ],
   "source": [
    "#더하기\n",
    "print(\"1.더하기 예 : 2 + 4 = \" , 2 + 4)\n",
    "\n",
    "#빼기\n",
    "print(\"2.빼기 예 : 4 - 2 = \" , 4 - 2 )\n",
    "\n",
    "#곱하기\n",
    "print(\"3.곱하기 예 : 4 X 2 = \" , 4 * 2)\n",
    "\n",
    "#나누기\n",
    "print(\"4.나누기 예 : 5 / 2 = \" , 5 / 2)\n",
    "\n",
    "#나누기에서 몫 만 출력하기\n",
    "print(\"5.나누기에서 몫만 출력하기 예 : 5 // 2 = \" , 5 // 2)\n",
    "\n",
    "#나누기에서 나머지값만 출력하기\n",
    "print(\"6.나누기에서 나머지값만 출력하기 예 : 5 % 2 = \", 5 % 2)\n",
    "\n",
    "# 주어진 숫자의 승수값 출력하기\n",
    "print(\"7.주어진 숫자의 승수값 출력하기 예 : 5 ** 2 = \" , 5**2)"
   ]
  },
  {
   "cell_type": "markdown",
   "metadata": {
    "scrolled": true
   },
   "source": [
    "2) +와 - 연산자를 사용한 연산"
   ]
  },
  {
   "cell_type": "code",
   "execution_count": 5,
   "metadata": {
    "scrolled": true
   },
   "outputs": [
    {
     "name": "stdout",
     "output_type": "stream",
     "text": [
      "i 에 저장된 값은 5 입니다\n",
      "j 에 저장된 값은 6 입니다\n",
      "j 에 저장된 값은 7 입니다\n"
     ]
    }
   ],
   "source": [
    "# Case 1\n",
    "i = 3\n",
    "i = i + 2\n",
    "print(\"i 에 저장된 값은 %s 입니다\" %i)\n",
    "\n",
    "# Case 2\n",
    "j = 3\n",
    "j += 3\n",
    "print(\"j 에 저장된 값은 %s 입니다\" %j)\n",
    "\n",
    "# Case 3\n",
    "j = 10\n",
    "j -= 3\n",
    "print(\"j 에 저장된 값은 %s 입니다\" %j)"
   ]
  },
  {
   "cell_type": "markdown",
   "metadata": {},
   "source": [
    "3) input으로 입력받은 데이터의 산술 연산"
   ]
  },
  {
   "cell_type": "code",
   "execution_count": 5,
   "metadata": {},
   "outputs": [
    {
     "name": "stdout",
     "output_type": "stream",
     "text": [
      "첫번째 숫자 입력: 10\n",
      "두번째 숫자 입력: 20\n",
      "첫번째 숫자는 10 이고 두번째 숫자는 20 이며 \n",
      "두 숫자의 합은 1020 입니다\n"
     ]
    }
   ],
   "source": [
    "no1 = input(\"첫번째 숫자 입력: \")\n",
    "no2 = input(\"두번째 숫자 입력: \")\n",
    "\n",
    "print('''첫번째 숫자는 %s 이고 두번째 숫자는 %s 이며 \n",
    "두 숫자의 합은 %s 입니다''' %( no1, no2 , no1+no2 ) )"
   ]
  },
  {
   "cell_type": "markdown",
   "metadata": {},
   "source": [
    "4) input으로 입력받은 데이터를 숫자형으로 변환한 후 산술 연산"
   ]
  },
  {
   "cell_type": "code",
   "execution_count": 6,
   "metadata": {},
   "outputs": [
    {
     "name": "stdout",
     "output_type": "stream",
     "text": [
      "첫번째 숫자 입력: 10\n",
      "두번째 숫자 입력: 20\n",
      "첫번째 숫자는 10 이고 두번째 숫자는 20 이며\n",
      "두 숫자의 합은 30 입니다\n"
     ]
    }
   ],
   "source": [
    "no1 = int( input(\"첫번째 숫자 입력: \") )\n",
    "no2 = int( input(\"두번째 숫자 입력: \") )\n",
    "\n",
    "print('''첫번째 숫자는 %s 이고 두번째 숫자는 %s 이며\n",
    "두 숫자의 합은 %s 입니다''' %( no1, no2 , no1+no2 ) )"
   ]
  },
  {
   "cell_type": "markdown",
   "metadata": {},
   "source": [
    "●  파이썬에서 숫자 형식 데이터 처리"
   ]
  },
  {
   "cell_type": "markdown",
   "metadata": {},
   "source": [
    "1) int : 정수형 데이터 형식 / float : 실수형 데이터 형식"
   ]
  },
  {
   "cell_type": "code",
   "execution_count": 7,
   "metadata": {},
   "outputs": [
    {
     "name": "stdout",
     "output_type": "stream",
     "text": [
      "정수형 숫자 타입: 1\n",
      "실수형 숫자 타입: 1.0\n"
     ]
    }
   ],
   "source": [
    "print(\"정수형 숫자 타입:\", int(1) )\n",
    "print(\"실수형 숫자 타입:\", float(1) )"
   ]
  },
  {
   "cell_type": "markdown",
   "metadata": {},
   "source": [
    "2) 숫자 형식에서 많이 사용되는 주요 함수 :    round( ) 반올림 함수"
   ]
  },
  {
   "cell_type": "code",
   "execution_count": 8,
   "metadata": {},
   "outputs": [
    {
     "name": "stdout",
     "output_type": "stream",
     "text": [
      "원래값: 3.45678 , 반올림후 값: 3\n",
      "원래값: 3.56789 , 반올림후 값: 4\n"
     ]
    }
   ],
   "source": [
    "no1 = 3.45678\n",
    "no2 = 3.56789\n",
    "print(\"원래값: %s , 반올림후 값: %s\" %(no1 , round(no1) ) )\n",
    "print(\"원래값: %s , 반올림후 값: %s\" %(no2 , round(no2) ) )"
   ]
  },
  {
   "cell_type": "markdown",
   "metadata": {},
   "source": [
    "round( ) 반올림 함수의 소수점 이하 자리수 지정"
   ]
  },
  {
   "cell_type": "code",
   "execution_count": 9,
   "metadata": {},
   "outputs": [
    {
     "name": "stdout",
     "output_type": "stream",
     "text": [
      "반올림하기 전 원래값: 1.6666666666666667\n",
      "소수 첫째자리까지 반올림하기: 1.7\n",
      "소수 둘째자리까지 반올림하기: 1.67\n"
     ]
    }
   ],
   "source": [
    "no1 = 3\n",
    "no2 = 5\n",
    "print(\"반올림하기 전 원래값:\", no2 / no1)\n",
    "print(\"소수 첫째자리까지 반올림하기:\", round(no2 / no1,1) )\n",
    "print(\"소수 둘째자리까지 반올림하기:\", round(no2 / no1,2) )"
   ]
  },
  {
   "cell_type": "markdown",
   "metadata": {},
   "source": [
    "3) 숫자 형식에서 많이 사용되는 주요 함수 : trunc() 버림 함수"
   ]
  },
  {
   "cell_type": "code",
   "execution_count": 11,
   "metadata": {},
   "outputs": [
    {
     "name": "stdout",
     "output_type": "stream",
     "text": [
      "버림하기 전 원래값: 1.6666666666666667\n"
     ]
    },
    {
     "ename": "NameError",
     "evalue": "name 'math' is not defined",
     "output_type": "error",
     "traceback": [
      "\u001b[1;31m---------------------------------------------------------------------------\u001b[0m",
      "\u001b[1;31mNameError\u001b[0m                                 Traceback (most recent call last)",
      "\u001b[1;32m<ipython-input-11-c0be94c3b3f2>\u001b[0m in \u001b[0;36m<module>\u001b[1;34m\u001b[0m\n\u001b[0;32m      2\u001b[0m \u001b[0mno2\u001b[0m \u001b[1;33m=\u001b[0m \u001b[1;36m5\u001b[0m\u001b[1;33m\u001b[0m\u001b[1;33m\u001b[0m\u001b[0m\n\u001b[0;32m      3\u001b[0m \u001b[0mprint\u001b[0m\u001b[1;33m(\u001b[0m\u001b[1;34m\"버림하기 전 원래값:\"\u001b[0m\u001b[1;33m,\u001b[0m \u001b[0mno2\u001b[0m \u001b[1;33m/\u001b[0m \u001b[0mno1\u001b[0m\u001b[1;33m)\u001b[0m\u001b[1;33m\u001b[0m\u001b[1;33m\u001b[0m\u001b[0m\n\u001b[1;32m----> 4\u001b[1;33m \u001b[0mprint\u001b[0m\u001b[1;33m(\u001b[0m\u001b[1;34m\"소수 첫째자리까지 버림하기:\"\u001b[0m\u001b[1;33m,\u001b[0m \u001b[0mmath\u001b[0m\u001b[1;33m.\u001b[0m\u001b[0mtrunc\u001b[0m\u001b[1;33m(\u001b[0m\u001b[0mno2\u001b[0m \u001b[1;33m/\u001b[0m \u001b[0mno1\u001b[0m\u001b[1;33m)\u001b[0m \u001b[1;33m)\u001b[0m\u001b[1;33m\u001b[0m\u001b[1;33m\u001b[0m\u001b[0m\n\u001b[0m\u001b[0;32m      5\u001b[0m \u001b[0mprint\u001b[0m\u001b[1;33m(\u001b[0m\u001b[1;34m\"음수 값 :\"\u001b[0m\u001b[1;33m,\u001b[0m \u001b[0mmath\u001b[0m\u001b[1;33m.\u001b[0m\u001b[0mtrunc\u001b[0m\u001b[1;33m(\u001b[0m\u001b[1;33m-\u001b[0m\u001b[1;36m3.14\u001b[0m\u001b[1;33m)\u001b[0m\u001b[1;33m)\u001b[0m\u001b[1;33m\u001b[0m\u001b[1;33m\u001b[0m\u001b[0m\n",
      "\u001b[1;31mNameError\u001b[0m: name 'math' is not defined"
     ]
    }
   ],
   "source": [
    "no1 = 3\n",
    "no2 = 5\n",
    "print(\"버림하기 전 원래값:\", no2 / no1)\n",
    "print(\"소수 첫째자리까지 버림하기:\", math.trunc(no2 / no1) )\n",
    "print(\"음수 값 :\", math.trunc(-3.14))"
   ]
  },
  {
   "cell_type": "code",
   "execution_count": 29,
   "metadata": {},
   "outputs": [
    {
     "name": "stdout",
     "output_type": "stream",
     "text": [
      "버림하기 전 원래값: 1.6666666666666667\n",
      "소수 첫째자리까지 버림하기: 1\n",
      "음수 값 : -3\n"
     ]
    }
   ],
   "source": [
    "import math\n",
    "no1 = 3\n",
    "no2 = 5\n",
    "print(\"버림하기 전 원래값:\", no2 / no1)\n",
    "print(\"소수 첫째자리까지 버림하기:\", math.trunc(no2 / no1) )\n",
    "print(\"음수 값 :\", math.trunc(-3.14))"
   ]
  },
  {
   "cell_type": "markdown",
   "metadata": {},
   "source": [
    "4) 숫자 형식에서 많이 사용되는 주요 함수 : ceil() 천장 함수"
   ]
  },
  {
   "cell_type": "code",
   "execution_count": 13,
   "metadata": {},
   "outputs": [
    {
     "name": "stdout",
     "output_type": "stream",
     "text": [
      "총 몇 건의 데이터를 수집할까요? :98\n",
      "총 10 페이지까지 데이터를 수집해야 합니다\n"
     ]
    }
   ],
   "source": [
    "cnt = int( input(\"총 몇 건의 데이터를 수집할까요? :\") )\n",
    "\n",
    "# 웹 사이트의 한 페이지에 10건의 게시물이 있다고 가정할 경우 \n",
    "\n",
    "page_cnt = math.ceil( cnt / 10 )\n",
    "print(\"총 %s 페이지까지 데이터를 수집해야 합니다\" %page_cnt)"
   ]
  },
  {
   "cell_type": "markdown",
   "metadata": {},
   "source": [
    "5) 숫자 형식에서 많이 사용되는 주요 함수 : floor() 바닥 함수"
   ]
  },
  {
   "cell_type": "code",
   "execution_count": 14,
   "metadata": {},
   "outputs": [
    {
     "name": "stdout",
     "output_type": "stream",
     "text": [
      "4.9 보다 작으면서 가장 가까운 정수는 4 입니다\n",
      "4.1 보다 작으면서 가장 가까운 정수는 4 입니다\n",
      "음수 값 :  -4\n"
     ]
    }
   ],
   "source": [
    "no1 = 4.9\n",
    "no2 = 4.1\n",
    "\n",
    "print(\"%s 보다 작으면서 가장 가까운 정수는 %s 입니다\" %(no1 , math.floor(no1)))\n",
    "print(\"%s 보다 작으면서 가장 가까운 정수는 %s 입니다\" %(no2 , math.floor(no2)))\n",
    "print(\"음수 값 : \",math.floor(-3.14))"
   ]
  },
  {
   "cell_type": "markdown",
   "metadata": {},
   "source": [
    "6) 숫자 형식에서 많이 사용되는 주요 함수 : trunc()와 floor()의 차이점"
   ]
  },
  {
   "cell_type": "code",
   "execution_count": 15,
   "metadata": {},
   "outputs": [
    {
     "name": "stdout",
     "output_type": "stream",
     "text": [
      "-3\n",
      "-4\n"
     ]
    }
   ],
   "source": [
    "print(math.trunc(-3.14))  # trunc()함수는 내림을 하더라도 0을 향해 내림\n",
    "print(math.floor(-3.14))  # floor() 함수는 무조건 바닥을 향해 내림"
   ]
  },
  {
   "cell_type": "markdown",
   "metadata": {},
   "source": [
    "● 파이썬에서 문자 형식 데이터 처리"
   ]
  },
  {
   "cell_type": "markdown",
   "metadata": {},
   "source": [
    "1) 인덱싱을 활용한 문자 데이터 추출"
   ]
  },
  {
   "cell_type": "code",
   "execution_count": 16,
   "metadata": {},
   "outputs": [
    {
     "name": "stdout",
     "output_type": "stream",
     "text": [
      "파이썬완전쉽죠?\n",
      "파\n",
      "이\n"
     ]
    }
   ],
   "source": [
    "str1 = '파이썬완전쉽죠?'\n",
    "print(str1)\n",
    "print(str1[0])\n",
    "print(str1[1])"
   ]
  },
  {
   "cell_type": "markdown",
   "metadata": {
    "scrolled": true
   },
   "source": [
    "2) 슬라이싱을 활용한 문자 데이터 추출"
   ]
  },
  {
   "cell_type": "code",
   "execution_count": 17,
   "metadata": {
    "scrolled": true
   },
   "outputs": [
    {
     "name": "stdout",
     "output_type": "stream",
     "text": [
      "파이썬완전쉽죠?\n",
      "파이썬완\n"
     ]
    }
   ],
   "source": [
    "str1 = '파이썬완전쉽죠?'\n",
    "print(str1)\n",
    "\n",
    "print(str1[0:4])"
   ]
  },
  {
   "cell_type": "code",
   "execution_count": 18,
   "metadata": {
    "scrolled": true
   },
   "outputs": [
    {
     "name": "stdout",
     "output_type": "stream",
     "text": [
      "집및분석\n",
      "빅데이터수\n"
     ]
    }
   ],
   "source": [
    "str1 = '빅데이터수집및분석'\n",
    "\n",
    "print(str1[5:])\n",
    "print(str1[:5])"
   ]
  },
  {
   "cell_type": "markdown",
   "metadata": {},
   "source": [
    "3) 문자 형식에서 많이 사용되는 주요 함수 : lower( ) 소문자 변환 함수, upper( ) 대문자 변환 함수"
   ]
  },
  {
   "cell_type": "code",
   "execution_count": 19,
   "metadata": {},
   "outputs": [
    {
     "name": "stdout",
     "output_type": "stream",
     "text": [
      "python\n",
      "PYTHON\n"
     ]
    }
   ],
   "source": [
    "str2 = \"PyThoN\"  # 대소문자가 섞여 있습니다\n",
    "print(str2.lower())\n",
    "print(str2.upper( ))"
   ]
  },
  {
   "cell_type": "markdown",
   "metadata": {},
   "source": [
    "4) 문자 형식에서 많이 사용되는 주요 함수 : lstrip( ) 왼쪽 공백 제거 함수 / rstrip( ) 오른쪽 공백 제거 함수 / strip( ) 양쪽 공백 제거 함수"
   ]
  },
  {
   "cell_type": "code",
   "execution_count": 20,
   "metadata": {},
   "outputs": [
    {
     "name": "stdout",
     "output_type": "stream",
     "text": [
      "<- 이쪽 끝에 공백 있었어요\n",
      "오른쪽 끝에 공백 있었어요->\n",
      "<- 양쪽 끝에 공백 있었어요 ->\n"
     ]
    }
   ],
   "source": [
    "str3 = \"    <- 이쪽 끝에 공백 있었어요\"\n",
    "str4 = \"오른쪽 끝에 공백 있었어요->    \"\n",
    "str5 = \"   <- 양쪽 끝에 공백 있었어요 ->   \"\n",
    "\n",
    "print( str3.lstrip( ) )\n",
    "print( str4.rstrip( ) )\n",
    "print( str5.strip( ) )"
   ]
  },
  {
   "cell_type": "markdown",
   "metadata": {},
   "source": [
    "5) 문자 형식에서 많이 사용되는 주요 함수 : replace( ) 문자 치환 함수"
   ]
  },
  {
   "cell_type": "code",
   "execution_count": 30,
   "metadata": {},
   "outputs": [
    {
     "name": "stdout",
     "output_type": "stream",
     "text": [
      "새우도 해산물 인가요?\n"
     ]
    }
   ],
   "source": [
    "str6 = '새우깡도 해산물 인가요?'\n",
    "print(str6.replace(\"새우깡\" , \"새우\"))"
   ]
  },
  {
   "cell_type": "markdown",
   "metadata": {},
   "source": [
    "6) 문자 형식에서 많이 사용되는 주요 함수 : split( ) 문자 분리 함수"
   ]
  },
  {
   "cell_type": "code",
   "execution_count": 22,
   "metadata": {},
   "outputs": [
    {
     "name": "stdout",
     "output_type": "stream",
     "text": [
      "['02', '1234', '5678']\n",
      "['02', '1234-5678']\n"
     ]
    }
   ],
   "source": [
    "tel = '02-1234-5678'\n",
    "print(tel.split('-'))\n",
    "print(tel.split('-',1))"
   ]
  },
  {
   "cell_type": "markdown",
   "metadata": {},
   "source": [
    "< 참고 > split()후 데이터 타입 확인"
   ]
  },
  {
   "cell_type": "code",
   "execution_count": 36,
   "metadata": {},
   "outputs": [
    {
     "name": "stdout",
     "output_type": "stream",
     "text": [
      "<class 'str'>\n",
      "02-1234-5647 \n",
      "\n",
      "<class 'list'>\n",
      "['02', '1234', '5647'] \n",
      "\n"
     ]
    }
   ],
   "source": [
    "tel_1 = \"02-1234-5647\"\n",
    "print(type(tel_1))\n",
    "print(tel_1, \"\\n\")\n",
    "\n",
    "tel_2 = tel_1.split('-')\n",
    "print(type(tel_2))\n",
    "print(tel_2, \"\\n\")\n"
   ]
  },
  {
   "cell_type": "markdown",
   "metadata": {},
   "source": [
    "<참고> type / getsizeof 활용법"
   ]
  },
  {
   "cell_type": "code",
   "execution_count": 1,
   "metadata": {},
   "outputs": [
    {
     "name": "stdout",
     "output_type": "stream",
     "text": [
      "a: 2 / b: 3.5 / c: A\n",
      "<class 'int'> / <class 'float'> / <class 'str'>\n",
      "28 byte /  24 byte /  50 byte\n"
     ]
    }
   ],
   "source": [
    "import sys\n",
    "a = 2\n",
    "b = 3.5\n",
    "c = \"A\"\n",
    "print(\"a:\", a, \"/ b:\", b, \"/ c:\", c)\n",
    "print(type(a), \"/\", type(b),\"/\", type(c))\n",
    "print(sys.getsizeof(a),\"byte / \", sys.getsizeof(b),\"byte / \", sys.getsizeof(c), \"byte\")"
   ]
  },
  {
   "cell_type": "code",
   "execution_count": 66,
   "metadata": {},
   "outputs": [
    {
     "name": "stdout",
     "output_type": "stream",
     "text": [
      "aa: A / bb: 40 / cc: 23.5\n",
      "<class 'str'> / <class 'int'> / <class 'float'>\n",
      "50 byte /  28 byte /  24 byte\n"
     ]
    }
   ],
   "source": [
    "aa = \"A\"\n",
    "bb = 40\n",
    "cc = 23.5\n",
    "\n",
    "print(\"aa:\", aa, \"/ bb:\", bb, \"/ cc:\", cc)\n",
    "print(type(aa), \"/\", type(bb),\"/\", type(cc))\n",
    "print(sys.getsizeof(aa),\"byte / \", sys.getsizeof(bb),\"byte / \", sys.getsizeof(cc), \"byte\")"
   ]
  },
  {
   "cell_type": "markdown",
   "metadata": {},
   "source": [
    "7) 문자 형식에서 많이 사용되는 주요 함수 : len() 문자열 또는 단어의 길이를 출력하는 함수"
   ]
  },
  {
   "cell_type": "code",
   "execution_count": 23,
   "metadata": {},
   "outputs": [
    {
     "name": "stdout",
     "output_type": "stream",
     "text": [
      "10\n",
      "3\n"
     ]
    }
   ],
   "source": [
    "str1 = '파이썬 완전 좋아요'\n",
    "str2 = ['파이썬','웹크롤러','가치랩스']\n",
    "\n",
    "print(len(str1))\n",
    "print(len(str2))"
   ]
  },
  {
   "cell_type": "markdown",
   "metadata": {},
   "source": [
    "8) 연산자를 이용한 문자열 처리"
   ]
  },
  {
   "cell_type": "code",
   "execution_count": 24,
   "metadata": {
    "scrolled": true
   },
   "outputs": [
    {
     "name": "stdout",
     "output_type": "stream",
     "text": [
      "================================================================================\n",
      "문자열로 연산하기 실습\n",
      "++++++++++++++++++++++++++++++++++++++++++++++++++++++++++++++++++++++++++++++++\n"
     ]
    }
   ],
   "source": [
    "print(\"=\" *80)\n",
    "print(\"문자열로 연산하기 실습\")\n",
    "print(\"+\" *80)"
   ]
  },
  {
   "cell_type": "markdown",
   "metadata": {},
   "source": [
    "● 파이썬에서 리스트 활용"
   ]
  },
  {
   "cell_type": "markdown",
   "metadata": {},
   "source": [
    "1) 리스트 생성"
   ]
  },
  {
   "cell_type": "code",
   "execution_count": 25,
   "metadata": {
    "scrolled": true
   },
   "outputs": [
    {
     "name": "stdout",
     "output_type": "stream",
     "text": [
      "['1982-07-15', '홍길동', 30]\n"
     ]
    }
   ],
   "source": [
    "list1 = ['1982-07-15','홍길동',30]\n",
    "print(list1)"
   ]
  },
  {
   "cell_type": "markdown",
   "metadata": {},
   "source": [
    "2) 리스트에서 append( ) 데이터 추가 함수 / insert( ) 데이터 삽입 함수"
   ]
  },
  {
   "cell_type": "code",
   "execution_count": 26,
   "metadata": {},
   "outputs": [
    {
     "name": "stdout",
     "output_type": "stream",
     "text": [
      "['첫째', '둘째', '셋째', 'append로 추가한 것']\n",
      "['첫째', '둘째', 'insert로 추가한 것', '셋째', 'append로 추가한 것']\n"
     ]
    }
   ],
   "source": [
    "list2 = ['첫째','둘째','셋째']\n",
    "list2.append('append로 추가한 것')\n",
    "print(list2)\n",
    "\n",
    "list2.insert(2,'insert로 추가한 것')\n",
    "print(list2)"
   ]
  },
  {
   "cell_type": "markdown",
   "metadata": {},
   "source": [
    "3) 리스트에서 데이터 삭제 함수 del()과 remove()\n",
    "\n",
    "< del()과 remove()의 차이점 >\n",
    "\n",
    "del a[인덱스] :  리스트 a의 해당 인덱스 원소가 삭제\n",
    "\n",
    "a.remove(원소) :  리스트 a의 해당 원소가 삭제"
   ]
  },
  {
   "cell_type": "code",
   "execution_count": 27,
   "metadata": {},
   "outputs": [
    {
     "name": "stdout",
     "output_type": "stream",
     "text": [
      "a 리스트 -> ['첫째', '둘째', 'three', '셋째', '넷째', 'five', '다섯째']\n",
      "\n",
      "del a[2]로 삭제후 a 리스트: ['첫째', '둘째', '셋째', '넷째', 'five', '다섯째']\n",
      "\n",
      "a.remove(\"five\")로 삭제후 목록: ['첫째', '둘째', '셋째', '넷째', '다섯째']\n"
     ]
    }
   ],
   "source": [
    "a = ['첫째', '둘째', 'three', '셋째', '넷째', 'five', '다섯째']\n",
    "print('a 리스트 ->',a)\n",
    "del a[2]\n",
    "print(\"\")\n",
    "\n",
    "print('del a[2]로 삭제후 a 리스트:' , a)\n",
    "print(\"\")\n",
    "\n",
    "a.remove(\"five\")\n",
    "print('a.remove(\"five\")로 삭제후 목록:', a)"
   ]
  },
  {
   "cell_type": "markdown",
   "metadata": {
    "scrolled": true
   },
   "source": [
    "4) 리스트에서 sort( ) 오름차순 정렬 함수 / reverse( ) 내림차순 정렬 함수"
   ]
  },
  {
   "cell_type": "code",
   "execution_count": 28,
   "metadata": {
    "scrolled": true
   },
   "outputs": [
    {
     "name": "stdout",
     "output_type": "stream",
     "text": [
      "오름차순(기본)정렬후 [1, 2, 3, 5, 8] \n",
      "\n",
      "내림차순 정렬후: [8, 5, 3, 2, 1] \n",
      "\n",
      "영어 정렬: ['Apple', 'apple', 'banana', 'cherry'] \n",
      "\n",
      "한글 정렬: ['김유신', '이순신', '전우치', '홍길동']\n"
     ]
    }
   ],
   "source": [
    "list3 = [ 3,1,5,8,2]\n",
    "list3.sort()\n",
    "print('오름차순(기본)정렬후', list3, '\\n')\n",
    "\n",
    "list3.reverse()\n",
    "print('내림차순 정렬후:', list3, '\\n')\n",
    "\n",
    "list4 = ['banana','apple','cherry','Apple']\n",
    "list4.sort()\n",
    "print('영어 정렬:', list4, '\\n')\n",
    "\n",
    "list5 = ['홍길동','전우치','김유신','이순신']\n",
    "list5.sort()\n",
    "print('한글 정렬:' , list5)"
   ]
  },
  {
   "cell_type": "markdown",
   "metadata": {},
   "source": [
    "<참고> ASCII 코드 값 활용 \n",
    "\n",
    "ord() 함수 : 문자를 아스키 코드 값으로 출력 / chr() 함수 : 아스키 코드 값을 문자로 출력"
   ]
  },
  {
   "cell_type": "code",
   "execution_count": 74,
   "metadata": {},
   "outputs": [
    {
     "name": "stdout",
     "output_type": "stream",
     "text": [
      "A  아스키 코드 값 :  65\n",
      "B  아스키 코드 값 :  66\n",
      "a  아스키 코드 값 :  97\n",
      "b  아스키 코드 값 :  98\n"
     ]
    }
   ],
   "source": [
    "list_A = \"A\"\n",
    "list_B = \"B\"\n",
    "\n",
    "list_a = \"a\"\n",
    "list_b = \"b\"\n",
    "\n",
    "print(\"A  아스키 코드 값 : \", ord(list_A))\n",
    "print(\"B  아스키 코드 값 : \", ord(list_B))\n",
    "print(\"a  아스키 코드 값 : \", ord(list_a))\n",
    "print(\"b  아스키 코드 값 : \", ord(list_b))"
   ]
  },
  {
   "cell_type": "code",
   "execution_count": 75,
   "metadata": {},
   "outputs": [
    {
     "name": "stdout",
     "output_type": "stream",
     "text": [
      "아스키 코드 값 65 :  A\n",
      "아스키 코드 값 66 :  B\n",
      "아스키 코드 값 97 :  a\n",
      "아스키 코드 값 98 :  b\n"
     ]
    }
   ],
   "source": [
    "print(\"아스키 코드 값 65 : \", chr(65))\n",
    "print(\"아스키 코드 값 66 : \", chr(66))\n",
    "print(\"아스키 코드 값 97 : \", chr(97))\n",
    "print(\"아스키 코드 값 98 : \", chr(98))"
   ]
  },
  {
   "cell_type": "code",
   "execution_count": null,
   "metadata": {},
   "outputs": [],
   "source": []
  }
 ],
 "metadata": {
  "kernelspec": {
   "display_name": "Python 3",
   "language": "python",
   "name": "python3"
  },
  "language_info": {
   "codemirror_mode": {
    "name": "ipython",
    "version": 3
   },
   "file_extension": ".py",
   "mimetype": "text/x-python",
   "name": "python",
   "nbconvert_exporter": "python",
   "pygments_lexer": "ipython3",
   "version": "3.8.8"
  }
 },
 "nbformat": 4,
 "nbformat_minor": 2
}
