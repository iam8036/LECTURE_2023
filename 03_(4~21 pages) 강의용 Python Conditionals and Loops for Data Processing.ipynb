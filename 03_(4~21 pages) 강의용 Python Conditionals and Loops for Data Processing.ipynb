{
 "cells": [
  {
   "cell_type": "markdown",
   "metadata": {},
   "source": [
    "# 03_Python Conditionals and Loops for Data Processing"
   ]
  },
  {
   "cell_type": "markdown",
   "metadata": {},
   "source": [
    "# page 4"
   ]
  },
  {
   "cell_type": "markdown",
   "metadata": {},
   "source": [
    "● if 조건문 활용 \n",
    "\n",
    "1) 예제 1"
   ]
  },
  {
   "cell_type": "code",
   "execution_count": 1,
   "metadata": {
    "scrolled": true
   },
   "outputs": [
    {
     "name": "stdout",
     "output_type": "stream",
     "text": [
      "조회할 사람의 이름을 입력하세요: 홍길동\n",
      "홍길동 입니다\n",
      "남자입니다\n",
      "활빈당 총수입니다\n"
     ]
    }
   ],
   "source": [
    "name = input('조회할 사람의 이름을 입력하세요: ')\n",
    "\n",
    "if name=='홍길동' :\n",
    "    print(\"홍길동 입니다\")\n",
    "    print(\"남자입니다\")\n",
    "    print(\"활빈당 총수입니다\")"
   ]
  },
  {
   "cell_type": "markdown",
   "metadata": {},
   "source": [
    "# page 5"
   ]
  },
  {
   "cell_type": "markdown",
   "metadata": {
    "scrolled": true
   },
   "source": [
    "2) 예제 2 : indentation 잘못해서 나오는 에러"
   ]
  },
  {
   "cell_type": "code",
   "execution_count": 2,
   "metadata": {
    "scrolled": false
   },
   "outputs": [
    {
     "ename": "IndentationError",
     "evalue": "unexpected indent (<ipython-input-2-5e487133f52d>, line 6)",
     "output_type": "error",
     "traceback": [
      "\u001b[1;36m  File \u001b[1;32m\"<ipython-input-2-5e487133f52d>\"\u001b[1;36m, line \u001b[1;32m6\u001b[0m\n\u001b[1;33m    print(\"활빈당 총수입니다\")\u001b[0m\n\u001b[1;37m    ^\u001b[0m\n\u001b[1;31mIndentationError\u001b[0m\u001b[1;31m:\u001b[0m unexpected indent\n"
     ]
    }
   ],
   "source": [
    "name = input('조회할 사람의 이름을 입력하세요: ')\n",
    "\n",
    "if name=='홍길동' :\n",
    "    print(\"홍길동 입니다\")\n",
    "    print(\"남자입니다\")\n",
    "        print(\"활빈당 총수입니다\")"
   ]
  },
  {
   "cell_type": "markdown",
   "metadata": {},
   "source": [
    "# page 7"
   ]
  },
  {
   "cell_type": "markdown",
   "metadata": {
    "scrolled": true
   },
   "source": [
    "3) 예제 3"
   ]
  },
  {
   "cell_type": "code",
   "execution_count": 3,
   "metadata": {
    "scrolled": false
   },
   "outputs": [
    {
     "name": "stdout",
     "output_type": "stream",
     "text": [
      "조회할 사람의 이름을 입력하세요: 성춘향\n",
      "홍길동이 아니고 성춘향 입니다\n",
      "남자인가요?\n",
      "여자인가요?\n"
     ]
    }
   ],
   "source": [
    "name = input('조회할 사람의 이름을 입력하세요: ')\n",
    "\n",
    "if name=='홍길동' :\n",
    "    print(\"홍길동 입니다\")\n",
    "    print(\"남자입니다\")\n",
    "    print(\"활빈당 총수입니다\")\n",
    "else :\n",
    "    print(\"홍길동이 아니고 %s 입니다\" %name)\n",
    "    print(\"남자인가요?\")\n",
    "    print(\"여자인가요?\")"
   ]
  },
  {
   "cell_type": "markdown",
   "metadata": {},
   "source": [
    "# page 10 "
   ]
  },
  {
   "cell_type": "markdown",
   "metadata": {},
   "source": [
    "4) 예제 4 : and 연산자 사용"
   ]
  },
  {
   "cell_type": "code",
   "execution_count": 4,
   "metadata": {
    "scrolled": true
   },
   "outputs": [
    {
     "name": "stdout",
     "output_type": "stream",
     "text": [
      "점수를 입력하세요: 88\n",
      "B 등급입니다!\n"
     ]
    }
   ],
   "source": [
    "jumsu = int(input(\"점수를 입력하세요: \"))\n",
    "\n",
    "if jumsu >= 91 and jumsu <= 100 :\n",
    "    print(\"A 등급입니다!\")\n",
    "elif jumsu >= 81 and jumsu <= 90 :\n",
    "    print(\"B 등급입니다!\")\n",
    "elif jumsu >= 71 and jumsu <= 80 :\n",
    "    print(\"C 등급입니다!\")\n",
    "else :\n",
    "    print(\"D 등급입니다!\")"
   ]
  },
  {
   "cell_type": "markdown",
   "metadata": {},
   "source": [
    "# page 11"
   ]
  },
  {
   "cell_type": "markdown",
   "metadata": {},
   "source": [
    "5) 예제 5 : & 연산자 사용"
   ]
  },
  {
   "cell_type": "code",
   "execution_count": 5,
   "metadata": {},
   "outputs": [
    {
     "name": "stdout",
     "output_type": "stream",
     "text": [
      "점수를 입력하세요: 88\n",
      "B 등급입니다!\n"
     ]
    }
   ],
   "source": [
    "jumsu = int(input(\"점수를 입력하세요: \"))\n",
    "\n",
    "# &를 사용할 경우에는 관계연산자 부분에 반드시 괄호 연산자를 사용해야 함 \n",
    "if (jumsu >= 91) & (jumsu <= 100) :\n",
    "    print(\"A 등급입니다!\")\n",
    "elif (jumsu >= 81) & (jumsu <= 90) :\n",
    "    print(\"B 등급입니다!\")\n",
    "elif (jumsu >= 71) & (jumsu <= 80) :\n",
    "    print(\"C 등급입니다!\")\n",
    "else :\n",
    "    print(\"D 등급입니다!\")"
   ]
  },
  {
   "cell_type": "markdown",
   "metadata": {},
   "source": [
    "# page 12"
   ]
  },
  {
   "cell_type": "markdown",
   "metadata": {
    "scrolled": true
   },
   "source": [
    "6) 예제 6 : or 연산자 사용 "
   ]
  },
  {
   "cell_type": "code",
   "execution_count": 6,
   "metadata": {
    "scrolled": false
   },
   "outputs": [
    {
     "name": "stdout",
     "output_type": "stream",
     "text": [
      "Y 또는 y 를 입력하세요: y\n",
      "입력하신 문자는 y 입니다\n"
     ]
    }
   ],
   "source": [
    "  answer = input(\"Y 또는 y 를 입력하세요: \")\n",
    "\n",
    "if answer == 'Y' or answer == 'y' :\n",
    "    print(\"입력하신 문자는 %s 입니다\" %answer)\n",
    "else :\n",
    "    print(\"Y 또는 y 를 입력하세요\")"
   ]
  },
  {
   "cell_type": "markdown",
   "metadata": {},
   "source": [
    "# page 13"
   ]
  },
  {
   "cell_type": "markdown",
   "metadata": {},
   "source": [
    "7) 예제 7 : != 연산자 사용 "
   ]
  },
  {
   "cell_type": "code",
   "execution_count": 7,
   "metadata": {
    "scrolled": true
   },
   "outputs": [
    {
     "name": "stdout",
     "output_type": "stream",
     "text": [
      "Y 또는 y 를 입력하세요: k\n",
      "입력하신 문자는 k 입니다\n"
     ]
    }
   ],
   "source": [
    "answer = input(\"Y 또는 y 를 입력하세요: \")\n",
    "\n",
    "if answer != 'Y' and answer != 'y' :\n",
    "    print(\"입력하신 문자는 %s 입니다\" %answer)\n",
    "else :\n",
    "    print(\"Y 또는 y 를 입력하셨군요~\")"
   ]
  },
  {
   "cell_type": "markdown",
   "metadata": {},
   "source": [
    "# page 15"
   ]
  },
  {
   "cell_type": "markdown",
   "metadata": {},
   "source": [
    "● for 반복문 활용"
   ]
  },
  {
   "cell_type": "markdown",
   "metadata": {},
   "source": [
    "1) 예제 1 : tuple 형식 활용"
   ]
  },
  {
   "cell_type": "code",
   "execution_count": 8,
   "metadata": {},
   "outputs": [
    {
     "name": "stdout",
     "output_type": "stream",
     "text": [
      "a :  (10, 20, 30)\n",
      "a 의 데이터 형식은  <class 'tuple'>\n",
      "i 값 :  10\n",
      "i 값 :  20\n",
      "i 값 :  30\n"
     ]
    }
   ],
   "source": [
    "a = (10,20,30)    \n",
    "print(\"a : \", a)\n",
    "print(\"a 의 데이터 형식은 \", type(a))\n",
    "\n",
    "for i in a :\n",
    "    print(\"i 값 : \" , i )  "
   ]
  },
  {
   "cell_type": "code",
   "execution_count": 9,
   "metadata": {
    "scrolled": true
   },
   "outputs": [
    {
     "name": "stdout",
     "output_type": "stream",
     "text": [
      "10\n",
      "20\n",
      "30\n"
     ]
    }
   ],
   "source": [
    "for i in (10, 20, 30) :\n",
    "    print( i )  "
   ]
  },
  {
   "cell_type": "markdown",
   "metadata": {},
   "source": [
    "# page 16"
   ]
  },
  {
   "cell_type": "markdown",
   "metadata": {},
   "source": [
    "2) 예제 2 : list 형식 활용"
   ]
  },
  {
   "cell_type": "code",
   "execution_count": 10,
   "metadata": {},
   "outputs": [
    {
     "name": "stdout",
     "output_type": "stream",
     "text": [
      "하나\n",
      "둘\n",
      "셋\n",
      "data :  ['하나', '둘', '셋']\n",
      "data 의 데이터 형식은  <class 'list'>\n"
     ]
    }
   ],
   "source": [
    "data = [\"하나\",\"둘\",\"셋\"]\n",
    "for i in data :\n",
    "    print( i )    \n",
    "    \n",
    "print(\"data : \", data)\n",
    "print(\"data 의 데이터 형식은 \", type(data))    "
   ]
  },
  {
   "cell_type": "code",
   "execution_count": 11,
   "metadata": {
    "scrolled": true
   },
   "outputs": [
    {
     "name": "stdout",
     "output_type": "stream",
     "text": [
      "김구 님은 대한민국의 위대한 위인이고 자랑이십니다~!\n",
      "유관순 님은 대한민국의 위대한 위인이고 자랑이십니다~!\n",
      "이순신 님은 대한민국의 위대한 위인이고 자랑이십니다~!\n"
     ]
    }
   ],
   "source": [
    "data = [\"김구\",\"유관순\",\"이순신\"]\n",
    "for i in data :\n",
    "    print(\"%s 님은 대한민국의 위대한 위인이고 자랑이십니다~!\"  % i)"
   ]
  },
  {
   "cell_type": "markdown",
   "metadata": {},
   "source": [
    "# page 17"
   ]
  },
  {
   "cell_type": "markdown",
   "metadata": {},
   "source": [
    "3) 예제 3 : range 활용"
   ]
  },
  {
   "cell_type": "code",
   "execution_count": 12,
   "metadata": {
    "scrolled": true
   },
   "outputs": [
    {
     "name": "stdout",
     "output_type": "stream",
     "text": [
      "밥 1 그릇 주세요~\n",
      "밥 2 그릇 주세요~\n",
      "밥 3 그릇 주세요~\n",
      "밥 4 그릇 주세요~\n"
     ]
    }
   ],
   "source": [
    "for i in range(1,5) :\n",
    "    print(\"밥 %s 그릇 주세요~\" %i)"
   ]
  },
  {
   "cell_type": "markdown",
   "metadata": {},
   "source": [
    "# page 19"
   ]
  },
  {
   "cell_type": "markdown",
   "metadata": {},
   "source": [
    "● while 반복문 활용"
   ]
  },
  {
   "cell_type": "markdown",
   "metadata": {},
   "source": [
    "1) 예제 1"
   ]
  },
  {
   "cell_type": "code",
   "execution_count": 13,
   "metadata": {},
   "outputs": [
    {
     "name": "stdout",
     "output_type": "stream",
     "text": [
      "1\n",
      "3\n",
      "5\n",
      "7\n"
     ]
    }
   ],
   "source": [
    "no1 = 1\n",
    "while no1 < 9 :\n",
    "    print(no1)\n",
    "    no1 += 2"
   ]
  },
  {
   "cell_type": "markdown",
   "metadata": {},
   "source": [
    "2) 예제 2"
   ]
  },
  {
   "cell_type": "code",
   "execution_count": 14,
   "metadata": {
    "scrolled": true
   },
   "outputs": [
    {
     "name": "stdout",
     "output_type": "stream",
     "text": [
      "2\n",
      "4\n",
      "6\n",
      "8\n",
      "10\n"
     ]
    }
   ],
   "source": [
    "no1 = 0\n",
    "while no1 < 9 :\n",
    "    no1 += 2\n",
    "    print(no1)    "
   ]
  },
  {
   "cell_type": "markdown",
   "metadata": {},
   "source": [
    "# page 20"
   ]
  },
  {
   "cell_type": "markdown",
   "metadata": {},
   "source": [
    "● 반복문, 조건문, break, continue 혼합 활용 "
   ]
  },
  {
   "cell_type": "markdown",
   "metadata": {},
   "source": [
    "1) 예제 1  :  break 활용 - 반복문 탈출"
   ]
  },
  {
   "cell_type": "code",
   "execution_count": 15,
   "metadata": {},
   "outputs": [
    {
     "name": "stdout",
     "output_type": "stream",
     "text": [
      "새우깡  완전 맛있어요~!\n",
      "감자깡  완전 맛있어요~!\n"
     ]
    }
   ],
   "source": [
    "snack = [\"새우깡\",\"감자깡\",\"고구마깡\",\"맛동산\",\"짱구\"]\n",
    "for i in snack :\n",
    "    if i == \"고구마깡\" :\n",
    "         break\n",
    "    print(i,\" 완전 맛있어요~!\")"
   ]
  },
  {
   "cell_type": "markdown",
   "metadata": {},
   "source": [
    "# page 21"
   ]
  },
  {
   "cell_type": "markdown",
   "metadata": {},
   "source": [
    "2) 예제 2 : continue 활용 - 반복문 루틴으로 가서 실행을 계속 이어감"
   ]
  },
  {
   "cell_type": "code",
   "execution_count": 16,
   "metadata": {},
   "outputs": [
    {
     "name": "stdout",
     "output_type": "stream",
     "text": [
      "새우깡  완전 맛있어요~!\n",
      "감자깡  완전 맛있어요~!\n",
      "맛동산  완전 맛있어요~!\n",
      "짱구  완전 맛있어요~!\n"
     ]
    }
   ],
   "source": [
    "snack = [\"새우깡\",\"감자깡\",\"고구마깡\",\"맛동산\",\"짱구\"]\n",
    "for i in snack :\n",
    "    if i == \"고구마깡\" :\n",
    "         continue\n",
    "    print(i,\" 완전 맛있어요~!\")"
   ]
  },
  {
   "cell_type": "code",
   "execution_count": 17,
   "metadata": {},
   "outputs": [
    {
     "name": "stdout",
     "output_type": "stream",
     "text": [
      "새우깡\n",
      "맛동산\n",
      "짱구\n"
     ]
    }
   ],
   "source": [
    "snack = [\"새우깡\",\"고구마깡\",\"맛동산\",\"짱구\"]\n",
    "for i in snack :\n",
    "    if i == \"고구마깡\" :\n",
    "         continue\n",
    "    print(i)"
   ]
  },
  {
   "cell_type": "code",
   "execution_count": null,
   "metadata": {},
   "outputs": [],
   "source": []
  }
 ],
 "metadata": {
  "kernelspec": {
   "display_name": "Python 3",
   "language": "python",
   "name": "python3"
  },
  "language_info": {
   "codemirror_mode": {
    "name": "ipython",
    "version": 3
   },
   "file_extension": ".py",
   "mimetype": "text/x-python",
   "name": "python",
   "nbconvert_exporter": "python",
   "pygments_lexer": "ipython3",
   "version": "3.8.8"
  }
 },
 "nbformat": 4,
 "nbformat_minor": 2
}
